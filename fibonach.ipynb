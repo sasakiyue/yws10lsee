{
 "cells": [
  {
   "cell_type": "code",
   "execution_count": 51,
   "metadata": {
    "collapsed": true
   },
   "outputs": [],
   "source": [
    "import numpy as np"
   ]
  },
  {
   "cell_type": "code",
   "execution_count": 110,
   "metadata": {
    "collapsed": false
   },
   "outputs": [],
   "source": [
    "max = 100\n",
    "array = np.ones(100)\n",
    "sum_strArray = np.zeros(100)"
   ]
  },
  {
   "cell_type": "code",
   "execution_count": 111,
   "metadata": {
    "collapsed": false
   },
   "outputs": [],
   "source": [
    "for i in range(len(array)-2):\n",
    "    array[i+2] = array[i+1] + array[i]\n",
    "    strArray = str(int(array[i]))\n",
    "    for j in range(len(strArray)):\n",
    "        sum_strArray[i] = sum_strArray[i] + int(strArray[j])"
   ]
  },
  {
   "cell_type": "code",
   "execution_count": 125,
   "metadata": {
    "collapsed": false
   },
   "outputs": [
    {
     "name": "stdout",
     "output_type": "stream",
     "text": [
      "1.0\n",
      "1.0\n",
      "2.0\n",
      "3.0\n",
      "5.0\n",
      "8.0\n",
      "21.0\n",
      "144.0\n",
      "2584.0\n",
      "14930352.0\n",
      "86267571272.0\n",
      "498454011879264.0\n",
      "1.779979416004714e+18\n",
      "3.19404346349901e+19\n"
     ]
    }
   ],
   "source": [
    "for k in range(len(array)-2):\n",
    "    if array[k] % sum_strArray[k] ==0:\n",
    "        print (float(array[k]))"
   ]
  },
  {
   "cell_type": "code",
   "execution_count": null,
   "metadata": {
    "collapsed": true
   },
   "outputs": [],
   "source": []
  }
 ],
 "metadata": {
  "kernelspec": {
   "display_name": "Python 3",
   "language": "python",
   "name": "python3"
  },
  "language_info": {
   "codemirror_mode": {
    "name": "ipython",
    "version": 3
   },
   "file_extension": ".py",
   "mimetype": "text/x-python",
   "name": "python",
   "nbconvert_exporter": "python",
   "pygments_lexer": "ipython3",
   "version": "3.5.1"
  },
  "latex_envs": {
   "bibliofile": "biblio.bib",
   "cite_by": "apalike",
   "current_citInitial": 1,
   "eqLabelWithNumbers": true,
   "eqNumInitial": 0
  }
 },
 "nbformat": 4,
 "nbformat_minor": 0
}
