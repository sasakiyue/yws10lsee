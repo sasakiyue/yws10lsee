{
 "cells": [
  {
   "cell_type": "code",
   "execution_count": 84,
   "metadata": {
    "collapsed": false
   },
   "outputs": [],
   "source": [
    "# チェック関数\n",
    "def check(count):\n",
    "    \n",
    "    str_count = str(count)\n",
    "#     print(str_count)\n",
    "#     print (int(len(str_count)/2))\n",
    "    \n",
    "    for i in range(int(len(str_count)/2)):\n",
    "#         print (str(i) + \":\" + str_count[i])\n",
    "#         print (str(i) + \":\" + str_count[-1 -i])\n",
    "        if str_count[i] != str_count[-1-i]:\n",
    "               return False\n",
    "    \n",
    "    return True\n",
    "    "
   ]
  },
  {
   "cell_type": "code",
   "execution_count": 85,
   "metadata": {
    "collapsed": false
   },
   "outputs": [],
   "source": [
    "count = 10\n",
    "\n",
    "while True:\n",
    "    \n",
    "    count_bi = format(count,'b')\n",
    "    count_oct = format(count,'o')\n",
    "    \n",
    "    count_check = check(count)\n",
    "    count_bi_check = check(count_bi)\n",
    "    count_oct_check = check(count_oct)\n",
    "    \n",
    "    if count_check == True:\n",
    "        if count_bi_check == True:\n",
    "            if count_oct_check == True:\n",
    "                break\n",
    "            \n",
    "    count+=1"
   ]
  },
  {
   "cell_type": "code",
   "execution_count": 86,
   "metadata": {
    "collapsed": false
   },
   "outputs": [
    {
     "data": {
      "text/plain": [
       "585"
      ]
     },
     "execution_count": 86,
     "metadata": {},
     "output_type": "execute_result"
    }
   ],
   "source": [
    "count"
   ]
  },
  {
   "cell_type": "code",
   "execution_count": null,
   "metadata": {
    "collapsed": true
   },
   "outputs": [],
   "source": []
  }
 ],
 "metadata": {
  "kernelspec": {
   "display_name": "Python 3",
   "language": "python",
   "name": "python3"
  },
  "language_info": {
   "codemirror_mode": {
    "name": "ipython",
    "version": 3
   },
   "file_extension": ".py",
   "mimetype": "text/x-python",
   "name": "python",
   "nbconvert_exporter": "python",
   "pygments_lexer": "ipython3",
   "version": "3.5.1"
  },
  "latex_envs": {
   "bibliofile": "biblio.bib",
   "cite_by": "apalike",
   "current_citInitial": 1,
   "eqLabelWithNumbers": true,
   "eqNumInitial": 0
  }
 },
 "nbformat": 4,
 "nbformat_minor": 0
}
