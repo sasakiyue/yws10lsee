{
 "cells": [
  {
   "cell_type": "code",
   "execution_count": 18,
   "metadata": {
    "collapsed": true
   },
   "outputs": [],
   "source": [
    "import numpy as np"
   ]
  },
  {
   "cell_type": "code",
   "execution_count": 19,
   "metadata": {
    "collapsed": false
   },
   "outputs": [],
   "source": [
    "max = 100\n",
    "array = np.ones(100)\n",
    "sum_strArray = np.zeros(100)"
   ]
  },
  {
   "cell_type": "code",
   "execution_count": 20,
   "metadata": {
    "collapsed": false
   },
   "outputs": [
    {
     "name": "stdout",
     "output_type": "stream",
     "text": [
      "1\n",
      "1\n",
      "2\n",
      "3\n",
      "5\n",
      "8\n",
      "21\n",
      "144\n",
      "2584\n",
      "14930352\n",
      "86267571272\n",
      "498454011879264\n",
      "1779979416004713984\n",
      "31940434634990100480\n"
     ]
    }
   ],
   "source": [
    "for i in range(len(array)-2):\n",
    "    array[i+2] = array[i+1] + array[i]\n",
    "    strArray = str(int(array[i]))\n",
    "    for j in range(len(strArray)):\n",
    "        sum_strArray[i] += int(strArray[j])\n",
    "    if array[i] % sum_strArray[i] ==0:\n",
    "        print (long(array[i]))"
   ]
  },
  {
   "cell_type": "code",
   "execution_count": null,
   "metadata": {
    "collapsed": true
   },
   "outputs": [],
   "source": []
  }
 ],
 "metadata": {
  "kernelspec": {
   "display_name": "Python [Root]",
   "language": "python",
   "name": "Python [Root]"
  },
  "language_info": {
   "codemirror_mode": {
    "name": "ipython",
    "version": 2
   },
   "file_extension": ".py",
   "mimetype": "text/x-python",
   "name": "python",
   "nbconvert_exporter": "python",
   "pygments_lexer": "ipython2",
   "version": "2.7.12"
  },
  "latex_envs": {
   "bibliofile": "biblio.bib",
   "cite_by": "apalike",
   "current_citInitial": 1,
   "eqLabelWithNumbers": true,
   "eqNumInitial": 0
  }
 },
 "nbformat": 4,
 "nbformat_minor": 0
}
