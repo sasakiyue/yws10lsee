{
 "cells": [
  {
   "cell_type": "markdown",
   "metadata": {
    "slideshow": {
     "slide_type": "slide"
    }
   },
   "source": [
    "### 信号とは"
   ]
  },
  {
   "cell_type": "markdown",
   "metadata": {
    "slideshow": {
     "slide_type": "subslide"
    }
   },
   "source": [
    "<img  src=\"9aa4cabab39f677a68bbfe14d4ac321f.png\"/>"
   ]
  },
  {
   "cell_type": "markdown",
   "metadata": {
    "slideshow": {
     "slide_type": "slide"
    }
   },
   "source": [
    "### 信号とは\n",
    "* 時間や空間に伴って変化する量を表す数学的関数\n",
    "* 時間依存と空間依存が存在\n",
    "\n",
    "    ex) 株価→時間に関する信号（時系列）\n",
    "* アナログ信号とデジタル信号が存在\n",
    "\n",
    "    x(t)のtが連続：アナログ\n",
    "\n",
    "    x(t)のtが離散かつ有限：デジタル\n",
    "    \n",
    "<img  src=\"アナログ_デジタル.png\"/>"
   ]
  },
  {
   "cell_type": "markdown",
   "metadata": {
    "slideshow": {
     "slide_type": "slide"
    }
   },
   "source": [
    "### * 信号処理とは * \n",
    "信号を数学的に加工する技術\n",
    "\n",
    "#### * 信号処理の目的 *\n",
    "\n",
    "一般的に...  \n",
    "* 未加工でノイズを含む測定結果から意味を持つ関連性のある情報を引き出すこと\n",
    "\n",
    "データ分析でいうと...  \n",
    "* データ分析の前処理（クレンジング）\n",
    "    さらにいうと、データクレンジングの主な作業は以下の２つ。\n",
    "      ・欠損値/異常値処理\n",
    "      ・ノイズ除去→信号処理アルゴリズムやフィルタリングが有効"
   ]
  },
  {
   "cell_type": "markdown",
   "metadata": {
    "slideshow": {
     "slide_type": "slide"
    }
   },
   "source": [
    "今回の勉強会の目標は、** 信号処理の基礎 **の理解  \n",
    "\n",
    "参考までに、信号処理の応用として以下がある。  \n",
    "\n",
    "\n",
    "        ＜本紙の範囲＞\n",
    "        画像処理：デジタルカメラ、デジタルビデオ、画像編集、画像認識、JPEGなどの画像ファイル圧縮\n",
    "        音声処理：音声合成、音声認識、音声符号化など\n",
    "\n",
    "        ＜その他＞\n",
    "        音響技術：デジタル録音・編集、音楽CD作成、MP3など音声ファイルの圧縮、音声認識など\n",
    "        動画処理：MPEG-1、MPEG-2、MPEG-4などで用いられる動画ファイルの圧縮\n",
    "        医療技術：X線CTやMRIなどの断層撮影、超音波検査、脳波、脳磁図の解析など\n",
    "        通信：移動体通信、レーダー技術、アンテナ技術、暗号化など\n",
    "        天文学：各種望遠鏡の信号解析など"
   ]
  },
  {
   "cell_type": "markdown",
   "metadata": {
    "collapsed": true,
    "slideshow": {
     "slide_type": "slide"
    }
   },
   "source": [
    "#### 信号の解析手法 ####\n",
    "信号の特性を把握するのに、２軸の手法がある。\n",
    "  * 時間領域  \n",
    "          直感的かつ容易に信号の動的変化を観測できる\n",
    "  * 周波数領域\n",
    "        周波数解析を行うことで、時間領域での解析では困難な、信号の成分分析が可能となります。  \n",
    "        \n",
    "        \n",
    " <img  src=\"98115_wm_frequency-analysis.jpg\"/>"
   ]
  },
  {
   "cell_type": "markdown",
   "metadata": {
    "slideshow": {
     "slide_type": "slide"
    }
   },
   "source": [
    "早速、やってみましょう！\n",
    "\n",
    "\n",
    "# レシピ10.１　（HANDS ON）\n",
    "\n",
    "##### 題目：電力データの周波数成分分析\n",
    "##### 目標：「時間領域→周波数領域→時間領域」の理解\n",
    "\n",
    "※ なお、時間領域と周波数領域の変換において、ある条件下では情報は失われない。\n",
    "詳細は「標本化定理」参照のこと"
   ]
  },
  {
   "cell_type": "markdown",
   "metadata": {
    "slideshow": {
     "slide_type": "subslide"
    }
   },
   "source": [
    "## ＜参考＞　フーリエ変換\n",
    "\n",
    "* 信号処理を行うにあたり、最も重要な式\n",
    "* 時間依存関数を、周波数依存関数に変換する\n",
    "* ある波形を複数の正弦波に分割することで、どのような成分を持つ波形なのかを理解するための処理\n",
    "\n",
    "\n",
    "<img  src=\"フーリエ変換.png\"/>"
   ]
  },
  {
   "cell_type": "code",
   "execution_count": 13,
   "metadata": {
    "collapsed": false,
    "slideshow": {
     "slide_type": "subslide"
    }
   },
   "outputs": [
    {
     "data": {
      "text/latex": [
       "$$F(k) = \\int_{-\\infty}^{\\infty} f(x) e^{-2\\pi i k/N} dx$$"
      ],
      "text/plain": [
       "<IPython.core.display.Math object>"
      ]
     },
     "metadata": {},
     "output_type": "display_data"
    }
   ],
   "source": [
    "from IPython.display import display, Math, Latex\n",
    "display(Math(r'F(k) = \\int_{-\\infty}^{\\infty} f(x) e^{-2\\pi i k/N} dx'))"
   ]
  },
  {
   "cell_type": "markdown",
   "metadata": {
    "slideshow": {
     "slide_type": "slide"
    }
   },
   "source": [
    "## さらに...\n",
    "* 離散フーリエ変換は、デジタル信号を周波数依存関数に変換する方法\n",
    "* 離散フーリエ変換の計算量は O（N^2）\n",
    "* ある条件下（Nが２の累乗）である場合、高速フーリエ変換による計算量は O（N Log N） であり高速"
   ]
  },
  {
   "cell_type": "code",
   "execution_count": 19,
   "metadata": {
    "collapsed": false,
    "slideshow": {
     "slide_type": "subslide"
    }
   },
   "outputs": [
    {
     "data": {
      "text/latex": [
       "$$F(k) = \\sum^{N-1}_{i=0} f(x) e^{-2\\pi i k/N}$$"
      ],
      "text/plain": [
       "<IPython.core.display.Math object>"
      ]
     },
     "metadata": {},
     "output_type": "display_data"
    },
    {
     "name": "stdout",
     "output_type": "stream",
     "text": [
      "k = {0, 1, ... N-1}\n"
     ]
    }
   ],
   "source": [
    "display(Math(r'F(k) = \\sum^{N-1}_{i=0} f(x) e^{-2\\pi i k/N}'))\n",
    "print('k = {0, 1, ... N-1}')"
   ]
  },
  {
   "cell_type": "code",
   "execution_count": null,
   "metadata": {
    "collapsed": true
   },
   "outputs": [],
   "source": []
  }
 ],
 "metadata": {
  "celltoolbar": "Slideshow",
  "kernelspec": {
   "display_name": "Python 3",
   "language": "python",
   "name": "python3"
  },
  "language_info": {
   "codemirror_mode": {
    "name": "ipython",
    "version": 3
   },
   "file_extension": ".py",
   "mimetype": "text/x-python",
   "name": "python",
   "nbconvert_exporter": "python",
   "pygments_lexer": "ipython3",
   "version": "3.5.1"
  },
  "latex_envs": {
   "bibliofile": "biblio.bib",
   "cite_by": "apalike",
   "current_citInitial": 1,
   "eqLabelWithNumbers": true,
   "eqNumInitial": 0
  }
 },
 "nbformat": 4,
 "nbformat_minor": 0
}
