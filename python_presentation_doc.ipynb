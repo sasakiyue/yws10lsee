{
 "cells": [
  {
   "cell_type": "markdown",
   "metadata": {},
   "source": [
    "### 信号とは\n",
    "\n",
    "* 時間や空間に伴って変化する量を表す数学的関数\n",
    "* 時間依存と空間依存が存在\n",
    "\n",
    "    ex) 株価→時間に関する信号（時系列）\n",
    "* アナログ信号とデジタル信号が存在\n",
    "\n",
    "    x(t)のtが連続：アナログ\n",
    "\n",
    "    x(t)のtが離散かつ有限：デジタル"
   ]
  },
  {
   "cell_type": "markdown",
   "metadata": {},
   "source": [
    "### * 信号処理とは * \n",
    "信号を数学的に加工する技術\n",
    "\n",
    "#### * 信号処理の目的 *\n",
    "\n",
    "一般的に...  \n",
    "* 未加工でノイズを含む測定結果から意味を持つ関連性のある情報を引き出すこと\n",
    "\n",
    "データ分析でいうと...  \n",
    "* データ分析の前処理（クレンジング）\n",
    "    さらにいうと、データクレンジングの主な作業は以下の２つ。（★絹確認）\n",
    "      ・欠損値/異常値処理 *→どんな手法がある？\n",
    "      ・ノイズ除去→信号処理アルゴリズムやフィルタリングが有効"
   ]
  },
  {
   "cell_type": "markdown",
   "metadata": {},
   "source": [
    "今回の勉強会の目標は、** 信号処理の基礎 **の理解  \n",
    "参考までに、信号処理の応用として以下がある。  \n",
    "\n",
    "\n",
    "        ＜本紙の範囲＞\n",
    "        画像処理：デジタルカメラ、デジタルビデオ、画像編集、画像認識、JPEGなどの画像ファイル圧縮\n",
    "        音声処理：音声合成、音声認識、音声符号化など\n",
    "\n",
    "        ＜その他＞\n",
    "        音響技術：デジタル録音・編集、音楽CD作成、MP3など音声ファイルの圧縮、音声認識など\n",
    "        動画処理：MPEG-1、MPEG-2、MPEG-4などで用いられる動画ファイルの圧縮\n",
    "        医療技術：X線CTやMRIなどの断層撮影、超音波検査、脳波、脳磁図の解析など\n",
    "        通信：移動体通信、レーダー技術、アンテナ技術、暗号化など\n",
    "        天文学：各種望遠鏡の信号解析など"
   ]
  },
  {
   "cell_type": "markdown",
   "metadata": {
    "collapsed": true
   },
   "source": [
    "#### 信号の解析手法 ####\n",
    "信号の特性を把握するのに、２軸の手法がある。\n",
    "  * 時間領域  \n",
    "          直感的かつ容易に信号の動的変化を観測できる\n",
    "  * 周波数領域\n",
    "        周波数解析を行うことで、時間領域での解析では困難な、信号の成分分析が可能となります。  \n",
    "        \n",
    "        \n",
    " <img  src=\"98115_wm_frequency-analysis.jpg\"/>"
   ]
  },
  {
   "cell_type": "markdown",
   "metadata": {},
   "source": [
    "早速、やってみましょう！\n",
    "\n",
    "##### レシピ10.１\n",
    "目標「時間領域→周波数領域→時間領域」\n"
   ]
  },
  {
   "cell_type": "code",
   "execution_count": null,
   "metadata": {
    "collapsed": true
   },
   "outputs": [],
   "source": []
  }
 ],
 "metadata": {
  "kernelspec": {
   "display_name": "Python 3",
   "language": "python",
   "name": "python3"
  },
  "language_info": {
   "codemirror_mode": {
    "name": "ipython",
    "version": 3
   },
   "file_extension": ".py",
   "mimetype": "text/x-python",
   "name": "python",
   "nbconvert_exporter": "python",
   "pygments_lexer": "ipython3",
   "version": "3.5.1"
  },
  "latex_envs": {
   "bibliofile": "biblio.bib",
   "cite_by": "apalike",
   "current_citInitial": 1,
   "eqLabelWithNumbers": true,
   "eqNumInitial": 0
  }
 },
 "nbformat": 4,
 "nbformat_minor": 0
}
